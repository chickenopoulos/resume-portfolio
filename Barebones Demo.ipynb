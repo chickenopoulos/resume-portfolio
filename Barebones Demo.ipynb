{
 "cells": [
  {
   "cell_type": "markdown",
   "id": "85581eca-1f6d-48be-827c-658784f0727b",
   "metadata": {},
   "source": [
    "## Code Flow\n",
    "\n",
    "1. Load and clean daily adjusted close data for all available NYSE stocks in eodhistoricaldata.com\n",
    "2. Load sector data (GICS sector for each stock in the universe)\n",
    "3. Generate unique (non-reversed, i.e. AAPL/MSFT and MSFT/AAPL) pairs universe for a given sector (we will use Financials)\n",
    "4. Split timeframe into IN-OOS for Walk-forward analysis\n",
    "5. Run in-sample backtests using the z-score of the distance, and static entry and exit thresholds (2.5, 1 -> aiming for 1.5 deviation move as profit target)\n",
    "6. Run various pair selection methods from in-sample data (of each batch)\n",
    "7. Get average stats across OOS batches, for each selection method\n",
    "8. Summarize results"
   ]
  },
  {
   "cell_type": "code",
   "execution_count": 82,
   "id": "0faf0c78-0690-4292-b95d-d548e9ca0ee5",
   "metadata": {},
   "outputs": [],
   "source": [
    "import numpy as np\n",
    "import matplotlib.pyplot as plt\n",
    "from statsmodels.tsa.stattools import adfuller\n",
    "import empyrical as ep\n",
    "import pandas as pd\n",
    "import yfinance as yf\n",
    "from tqdm import tqdm\n",
    "import vectorbt as vbt"
   ]
  },
  {
   "cell_type": "markdown",
   "id": "26a7b207-75c1-49a2-bcf2-c6ab4f3de9fb",
   "metadata": {
    "jp-MarkdownHeadingCollapsed": true
   },
   "source": [
    "### Load price and sector data"
   ]
  },
  {
   "cell_type": "code",
   "execution_count": 300,
   "id": "7ab6d441",
   "metadata": {},
   "outputs": [
    {
     "name": "stdout",
     "output_type": "stream",
     "text": [
      "<class 'pandas.core.frame.DataFrame'>\n",
      "DatetimeIndex: 3502 entries, 2010-01-04 to 2023-11-10\n",
      "Columns: 1376 entries, A to ZBH\n",
      "dtypes: float64(1376)\n",
      "memory usage: 36.8 MB\n"
     ]
    }
   ],
   "source": [
    "raw_prices = pd.read_csv('price_data.csv')\n",
    "raw_prices = raw_prices.ffill().dropna(axis=1)\n",
    "raw_prices.date = pd.to_datetime(raw_prices.date)\n",
    "raw_prices.set_index('date', inplace=True)\n",
    "raw_prices.drop(columns=['CIR', 'EMAN'], inplace=True) # price equals zero at few dates\n",
    "universe = raw_prices.columns\n",
    "\n",
    "fundamentals = pd.read_csv('sector_data.csv')\n",
    "fundamentals.columns = ['asset', 'GicSector']\n",
    "fundamentals = fundamentals.set_index('asset').loc[universe].reset_index()\n",
    "fundamentals.columns = ['asset', 'GicSector']\n",
    "sectors = fundamentals.GicSector.dropna().unique().tolist()\n",
    "\n",
    "raw_prices.info()"
   ]
  },
  {
   "cell_type": "markdown",
   "id": "bc8c03c1-196d-43e4-8c07-e71c147e3de3",
   "metadata": {
    "jp-MarkdownHeadingCollapsed": true
   },
   "source": [
    "### Create pairs universe"
   ]
  },
  {
   "cell_type": "code",
   "execution_count": 5,
   "id": "05e381cf",
   "metadata": {},
   "outputs": [
    {
     "name": "stderr",
     "output_type": "stream",
     "text": [
      "100%|█████████████████████████████████████████████| 11/11 [00:00<00:00, 133.64it/s]\n"
     ]
    },
    {
     "data": {
      "text/plain": [
       "14806"
      ]
     },
     "execution_count": 5,
     "metadata": {},
     "output_type": "execute_result"
    }
   ],
   "source": [
    "pairs = []\n",
    "for sector in tqdm(sectors):\n",
    "    # sector = 'Consumer Staples'\n",
    "    u = fundamentals[fundamentals.GicSector == 'Financials'].asset.tolist()\n",
    "    for s1 in u:\n",
    "        for s2 in u:\n",
    "            if s1 != s2: pairs.append(f'{s1}/{s2}')\n",
    "\n",
    "# Drop inverse pairs\n",
    "seen_pairs = set()\n",
    "unique_pairs = []\n",
    "for pair in pairs:\n",
    "    # sort the pair to create a unique identifier for the pair\n",
    "    sorted_pair = tuple(sorted(pair))\n",
    "    # if the pair is already in the set, skip it\n",
    "    if sorted_pair in seen_pairs:\n",
    "        continue\n",
    "    # add the sorted pair to the set and the unique pairs list\n",
    "    seen_pairs.add(sorted_pair)\n",
    "    unique_pairs.append(pair)    \n",
    "pairs = unique_pairs\n",
    "\n",
    "len(pairs)"
   ]
  },
  {
   "cell_type": "markdown",
   "id": "8c882666-b195-4824-9be3-fd1ddf9c51b6",
   "metadata": {
    "jp-MarkdownHeadingCollapsed": true
   },
   "source": [
    "### Split into in-sample and out-of-sample batches"
   ]
  },
  {
   "cell_type": "code",
   "execution_count": 141,
   "id": "c13f86b5-05b6-4669-b090-d04e39713e0c",
   "metadata": {
    "scrolled": true
   },
   "outputs": [
    {
     "name": "stderr",
     "output_type": "stream",
     "text": [
      "D:\\vkotopoulos\\resume_portfolio\\pairs\\env\\lib\\site-packages\\jupyter_client\\session.py:721: UserWarning:\n",
      "\n",
      "Message serialization failed with:\n",
      "Out of range float values are not JSON compliant\n",
      "Supporting this message is deprecated in jupyter-client 7, please make sure your message is JSON-compliant\n",
      "\n",
      "D:\\vkotopoulos\\resume_portfolio\\pairs\\env\\lib\\site-packages\\jupyter_client\\session.py:721: UserWarning:\n",
      "\n",
      "Message serialization failed with:\n",
      "Out of range float values are not JSON compliant\n",
      "Supporting this message is deprecated in jupyter-client 7, please make sure your message is JSON-compliant\n",
      "\n"
     ]
    },
    {
     "data": {
      "application/vnd.jupyter.widget-view+json": {
       "model_id": "1f2a933c09c349ac9383821f4d6087ff",
       "version_major": 2,
       "version_minor": 0
      },
      "text/plain": [
       "FigureWidget({\n",
       "    'data': [{'colorscale': [[0.0, '#1f77b4'], [1.0, '#1f77b4']],\n",
       "              'hoverongaps': False,\n",
       "              'name': 'in-sample',\n",
       "              'showlegend': True,\n",
       "              'showscale': False,\n",
       "              'type': 'heatmap',\n",
       "              'uid': 'a6abc3f6-1ef5-4064-9d1e-0ca0a6614ba3',\n",
       "              'x': array([datetime.datetime(2010, 1, 4, 0, 0),\n",
       "                          datetime.datetime(2010, 1, 5, 0, 0),\n",
       "                          datetime.datetime(2010, 1, 6, 0, 0), ...,\n",
       "                          datetime.datetime(2023, 11, 8, 0, 0),\n",
       "                          datetime.datetime(2023, 11, 9, 0, 0),\n",
       "                          datetime.datetime(2023, 11, 10, 0, 0)], dtype=object),\n",
       "              'y': array([9, 8, 7, 6, 5, 4, 3, 2, 1, 0], dtype=int64),\n",
       "              'z': array([[nan, nan, nan, ..., nan, nan, nan],\n",
       "                          [nan, nan, nan, ..., nan, nan, nan],\n",
       "                          [nan, nan, nan, ..., nan, nan, nan],\n",
       "                          ...,\n",
       "                          [nan, nan, nan, ..., nan, nan, nan],\n",
       "                          [nan, nan, nan, ..., nan, nan, nan],\n",
       "                          [ 0.,  0.,  0., ..., nan, nan, nan]])},\n",
       "             {'colorscale': [[0.0, '#ff7f0e'], [1.0, '#ff7f0e']],\n",
       "              'hoverongaps': False,\n",
       "              'name': 'out-sample',\n",
       "              'showlegend': True,\n",
       "              'showscale': False,\n",
       "              'type': 'heatmap',\n",
       "              'uid': 'b8070b01-6b87-472f-8c1d-def1eebbe000',\n",
       "              'x': array([datetime.datetime(2010, 1, 4, 0, 0),\n",
       "                          datetime.datetime(2010, 1, 5, 0, 0),\n",
       "                          datetime.datetime(2010, 1, 6, 0, 0), ...,\n",
       "                          datetime.datetime(2023, 11, 8, 0, 0),\n",
       "                          datetime.datetime(2023, 11, 9, 0, 0),\n",
       "                          datetime.datetime(2023, 11, 10, 0, 0)], dtype=object),\n",
       "              'y': array([9, 8, 7, 6, 5, 4, 3, 2, 1, 0], dtype=int64),\n",
       "              'z': array([[nan, nan, nan, ...,  1.,  1.,  1.],\n",
       "                          [nan, nan, nan, ..., nan, nan, nan],\n",
       "                          [nan, nan, nan, ..., nan, nan, nan],\n",
       "                          ...,\n",
       "                          [nan, nan, nan, ..., nan, nan, nan],\n",
       "                          [nan, nan, nan, ..., nan, nan, nan],\n",
       "                          [nan, nan, nan, ..., nan, nan, nan]])}],\n",
       "    'layout': {'height': 212,\n",
       "               'legend': {'orientation': 'h',\n",
       "                          'traceorder': 'normal',\n",
       "                          'x': 1,\n",
       "                          'xanchor': 'right',\n",
       "                          'y': 1.02,\n",
       "                          'yanchor': 'bottom'},\n",
       "               'margin': {'b': 30, 'l': 30, 'r': 30, 't': 30},\n",
       "               'template': '...',\n",
       "               'width': 700,\n",
       "               'yaxis': {'type': 'category'}}\n",
       "})"
      ]
     },
     "execution_count": 141,
     "metadata": {},
     "output_type": "execute_result"
    }
   ],
   "source": [
    "split_kwargs = dict(\n",
    "    n=10, \n",
    "    window_len=365 * 2, \n",
    "    set_lens=(305,), \n",
    "    left_to_right=False\n",
    ")  # 10 windows, each ~3 years long, 305 days for OOS (305 in order to match the end of the current with the start of the next batch, thus allowing for a continuous portfolio analysis \n",
    "\n",
    "def roll_in_and_out_samples(price, **kwargs):\n",
    "    return price.vbt.rolling_split(**kwargs)\n",
    "\n",
    "roll_in_and_out_samples(raw_prices[raw_prices.columns[0]], **split_kwargs, plot=True, trace_names=['in-sample', 'out-sample'])"
   ]
  },
  {
   "cell_type": "code",
   "execution_count": 106,
   "id": "fca22ce4-4d2d-426e-beb4-158e6fa9db1e",
   "metadata": {},
   "outputs": [
    {
     "name": "stdout",
     "output_type": "stream",
     "text": [
      "(425, 7660) 10\n",
      "(305, 7660) 10\n"
     ]
    }
   ],
   "source": [
    "(in_price, in_indexes), (out_price, out_indexes) = roll_in_and_out_samples(raw_prices, **split_kwargs)\n",
    "\n",
    "print(in_price.shape, len(in_indexes))  # in-sample\n",
    "print(out_price.shape, len(out_indexes))  # out-sample\n"
   ]
  },
  {
   "cell_type": "markdown",
   "id": "3e127f5f-cb87-4036-8896-ec2e0260d03e",
   "metadata": {
    "jp-MarkdownHeadingCollapsed": true
   },
   "source": [
    "### Get in-sample stats for each batch, for each pair\n"
   ]
  },
  {
   "cell_type": "code",
   "execution_count": 6,
   "id": "19a75994",
   "metadata": {},
   "outputs": [],
   "source": [
    "# Define trading parameters\n",
    "\n",
    "entry = 2.7\n",
    "exit_stretch = 1\n",
    "window = 100"
   ]
  },
  {
   "cell_type": "code",
   "execution_count": 67,
   "id": "fdf2fb7c",
   "metadata": {},
   "outputs": [
    {
     "name": "stderr",
     "output_type": "stream",
     "text": [
      "100%|███████████████████████████████████████| 14806/14806 [00:18<00:00, 786.68it/s]\n"
     ]
    }
   ],
   "source": [
    "# Construct zscores\n",
    "\n",
    "def roll_zscore(x, window):\n",
    "    r = x.rolling(window=window)\n",
    "    m = r.mean().shift(1)\n",
    "    s = r.std(ddof=0).shift(1)\n",
    "    z = (x-m)/s\n",
    "    return z\n",
    "\n",
    "zscores = {}\n",
    "window = 100\n",
    "for pair in tqdm(pairs):\n",
    "    s1 = pair.split('/')[0]\n",
    "    s2 = pair.split('/')[1]\n",
    "    r = abs(raw_prices[s1] - raw_prices[s2])\n",
    "    z = roll_zscore(r, window)\n",
    "    z.name = pair\n",
    "    zscores[pair] = z\n",
    "\n",
    "zscores = pd.DataFrame(zscores)"
   ]
  },
  {
   "cell_type": "code",
   "execution_count": 131,
   "id": "bd9a9328-b2e3-4c30-b4c9-e02f3ec0f98e",
   "metadata": {},
   "outputs": [
    {
     "name": "stderr",
     "output_type": "stream",
     "text": [
      "100%|████████████████████████████████████████| 14806/14806 [19:10<00:00, 12.87it/s]\n",
      "100%|████████████████████████████████████████| 14806/14806 [24:18<00:00, 10.15it/s]\n",
      "100%|████████████████████████████████████████| 14806/14806 [25:16<00:00,  9.76it/s]\n",
      "100%|████████████████████████████████████████| 14806/14806 [21:17<00:00, 11.59it/s]\n",
      "100%|████████████████████████████████████████| 14806/14806 [21:30<00:00, 11.47it/s]\n",
      "100%|████████████████████████████████████████| 14806/14806 [21:17<00:00, 11.59it/s]\n",
      "100%|████████████████████████████████████████| 14806/14806 [21:15<00:00, 11.61it/s]\n",
      "100%|████████████████████████████████████████| 14806/14806 [22:21<00:00, 11.04it/s]\n",
      "  1%|▎                                          | 96/14806 [00:08<21:35, 11.35it/s]D:\\vkotopoulos\\resume_portfolio\\pairs\\env\\lib\\site-packages\\empyrical\\stats.py:293: RuntimeWarning:\n",
      "\n",
      "invalid value encountered in subtract\n",
      "\n",
      "D:\\vkotopoulos\\resume_portfolio\\pairs\\env\\lib\\site-packages\\empyrical\\stats.py:293: RuntimeWarning:\n",
      "\n",
      "invalid value encountered in divide\n",
      "\n",
      " 84%|█████████████████████████████████▌      | 12406/14806 [18:36<03:34, 11.21it/s]D:\\vkotopoulos\\resume_portfolio\\pairs\\env\\lib\\site-packages\\empyrical\\stats.py:293: RuntimeWarning:\n",
      "\n",
      "invalid value encountered in subtract\n",
      "\n",
      "100%|████████████████████████████████████████| 14806/14806 [22:13<00:00, 11.10it/s]\n",
      "100%|████████████████████████████████████████| 14806/14806 [22:09<00:00, 11.14it/s]\n"
     ]
    }
   ],
   "source": [
    "def get_adfuller(s):\n",
    "    try:\n",
    "        adf = adfuller(s.dropna())\n",
    "        if adf[0] < adf[4]['1%']:\n",
    "            return adf[1]\n",
    "        else:\n",
    "            return np.nan\n",
    "    except:\n",
    "        return np.nan\n",
    "\n",
    "in_sample_stats = pd.DataFrame()\n",
    "\n",
    "for i, batch in enumerate(in_indexes):\n",
    "\n",
    "    # Run backtest per pair \n",
    "    \n",
    "    pairs_stats = {}\n",
    "    \n",
    "    for pair in tqdm(pairs):\n",
    "    \n",
    "        # Get Entry and Exit signals\n",
    "        \n",
    "        longs = zscores[pair].loc[batch] < -entry\n",
    "        shorts = zscores[pair].loc[batch] > entry\n",
    "        long_exits = zscores[pair].loc[batch] > -exit_stretch \n",
    "        short_exits = zscores[pair].loc[batch] < exit_stretch\n",
    "        \n",
    "        # Backtest first leg \n",
    "    \n",
    "        longs.columns = pair.split('/')[0]\n",
    "        shorts.columns = pair.split('/')[0]\n",
    "        long_exits.columns = pair.split('/')[0]\n",
    "        short_exits.columns = pair.split('/')[0]\n",
    "        \n",
    "        pf1 = vbt.Portfolio.from_signals(\n",
    "            raw_prices[pair.split('/')[0]].loc[longs.index],\n",
    "            entries=longs,\n",
    "            short_entries=shorts,\n",
    "            exits=long_exits,\n",
    "            short_exits=short_exits\n",
    "            )\n",
    "        pf1_trades = pf1.trades.records_readable\n",
    "        pf1_trades['asset'] = pair.split('/')[0]\n",
    "        \n",
    "        # Backtest second leg\n",
    "        \n",
    "        longs.columns = pair.split('/')[1]\n",
    "        shorts.columns = pair.split('/')[1]\n",
    "        long_exits.columns = pair.split('/')[1]\n",
    "        short_exits.columns = pair.split('/')[1]\n",
    "        \n",
    "        pf2 = vbt.Portfolio.from_signals(\n",
    "            raw_prices[pair.split('/')[1]].loc[longs.index],\n",
    "            entries=shorts,\n",
    "            short_entries=longs,\n",
    "            exits=short_exits,\n",
    "            short_exits=long_exits\n",
    "            )\n",
    "        pf2_trades = pf2.trades.records_readable\n",
    "        pf2_trades['asset'] = pair.split('/')[1]\n",
    "        \n",
    "        # Merge data\n",
    "        \n",
    "        mean_data = (pf1.returns().to_numpy() + pf2.returns().to_numpy())/2\n",
    "        pair_rets = pd.DataFrame(mean_data, columns=[pair], index=pf1.returns().index)\n",
    "        pair_trades = pd.concat([pf1_trades, pf2_trades])\n",
    "\n",
    "        # Compute pair stats\n",
    "        \n",
    "        avg_trade = pair_trades[['Return', 'Exit Timestamp']].groupby('Exit Timestamp').mean().Return.mean()\n",
    "        n_trades = len(pf1_trades)\n",
    "        sr = ep.sharpe_ratio(pair_rets[pair])\n",
    "        maxdd = ep.max_drawdown(pair_rets[pair])\n",
    "        corr = raw_prices[pair.split('/')[0]].loc[batch].corr(raw_prices[pair.split('/')[1]].loc[batch])\n",
    "        adf = get_adfuller(zscores[pair].loc[batch].dropna())\n",
    "        \n",
    "        pairs_stats[pair] = [avg_trade, n_trades, sr, maxdd, corr, adf]    \n",
    "\n",
    "    # Store in-sample batch stats \n",
    "    \n",
    "    t = pd.DataFrame(pairs_stats).T.reset_index()\n",
    "    t.columns = ['pair', 'avg_trade', 'n_trades', 'sr', 'maxdd', 'corr', 'adf']\n",
    "    t['batch'] = i\n",
    "    in_sample_stats = pd.concat([in_sample_stats, t])"
   ]
  },
  {
   "cell_type": "code",
   "execution_count": 132,
   "id": "4cea7396-b886-47d9-b13e-961c8ae69a30",
   "metadata": {},
   "outputs": [],
   "source": [
    "in_sample_stats.to_csv('in_sample_stats.csv', index=False)"
   ]
  },
  {
   "cell_type": "markdown",
   "id": "c59f4fce-d3cb-40c9-b819-f358fdff8931",
   "metadata": {
    "jp-MarkdownHeadingCollapsed": true
   },
   "source": [
    "### Get Top Performers per batch"
   ]
  },
  {
   "cell_type": "code",
   "execution_count": 278,
   "id": "b41e6ce2-8d3d-4641-8779-5ea092304abd",
   "metadata": {},
   "outputs": [],
   "source": [
    "in_sample_tops = {}\n",
    "for i in in_sample_stats.batch.unique():\n",
    "\n",
    "    # Get top performers\n",
    "    \n",
    "    top = in_sample_stats[(in_sample_stats.batch==i) & \\\n",
    "                          (in_sample_stats.maxdd > -0.05) & \\\n",
    "                          (in_sample_stats['adf'] < 0.05) & \\\n",
    "                          (in_sample_stats.n_trades > 5)].sort_values('sr', ascending=False)\n",
    "\n",
    "    # Get unique pairs (non-overlapping constituents)\n",
    "\n",
    "    seen_assets = set()\n",
    "    unique_pairs = []\n",
    "    for s1, s2 in [x.split('/') for x in top.pair]:\n",
    "        # if any of the assets is already in the set, skip it\n",
    "        if (s1 in seen_assets) | (s2 in seen_assets):\n",
    "            continue\n",
    "        # add the pair to the set and the unique pairs list\n",
    "        seen_assets.add(s1)\n",
    "        seen_assets.add(s2)\n",
    "        unique_pairs.append(s1+'/'+s2) \n",
    "        \n",
    "    in_sample_tops[i] = top[top.pair.isin(unique_pairs)].head(10).pair.tolist()"
   ]
  },
  {
   "cell_type": "markdown",
   "id": "cf105866-78d6-41d6-af96-bffadf7c3fbf",
   "metadata": {
    "jp-MarkdownHeadingCollapsed": true
   },
   "source": [
    "### Compute stats for top performers in OOS"
   ]
  },
  {
   "cell_type": "code",
   "execution_count": 279,
   "id": "aef09a0e-5fdc-4fcb-8c0d-4620642b664b",
   "metadata": {},
   "outputs": [
    {
     "name": "stderr",
     "output_type": "stream",
     "text": [
      "10it [00:08,  1.22it/s]\n"
     ]
    }
   ],
   "source": [
    "# Compute out of sample stats\n",
    "\n",
    "out_sample_stats = pd.DataFrame()\n",
    "\n",
    "for i, batch in tqdm(enumerate(out_indexes)):\n",
    "\n",
    "    # Run backtest per pair \n",
    "    \n",
    "    pairs_stats = {}\n",
    "    \n",
    "    for pair in in_sample_tops[i]:\n",
    "    \n",
    "        # Get Entry and Exit signals\n",
    "        \n",
    "        longs = zscores[pair].loc[batch] < -entry\n",
    "        shorts = zscores[pair].loc[batch] > entry\n",
    "        long_exits = zscores[pair].loc[batch] > -exit_stretch \n",
    "        short_exits = zscores[pair].loc[batch] < exit_stretch\n",
    "        \n",
    "        # Backtest first leg \n",
    "    \n",
    "        longs.columns = pair.split('/')[0]\n",
    "        shorts.columns = pair.split('/')[0]\n",
    "        long_exits.columns = pair.split('/')[0]\n",
    "        short_exits.columns = pair.split('/')[0]\n",
    "        \n",
    "        pf1 = vbt.Portfolio.from_signals(\n",
    "            raw_prices[pair.split('/')[0]].loc[longs.index],\n",
    "            entries=longs,\n",
    "            short_entries=shorts,\n",
    "            exits=long_exits,\n",
    "            short_exits=short_exits\n",
    "            )\n",
    "        pf1_trades = pf1.trades.records_readable\n",
    "        pf1_trades['asset'] = pair.split('/')[0]\n",
    "        \n",
    "        # Backtest second leg\n",
    "        \n",
    "        longs.columns = pair.split('/')[1]\n",
    "        shorts.columns = pair.split('/')[1]\n",
    "        long_exits.columns = pair.split('/')[1]\n",
    "        short_exits.columns = pair.split('/')[1]\n",
    "        \n",
    "        pf2 = vbt.Portfolio.from_signals(\n",
    "            raw_prices[pair.split('/')[1]].loc[longs.index],\n",
    "            entries=shorts,\n",
    "            short_entries=longs,\n",
    "            exits=short_exits,\n",
    "            short_exits=long_exits\n",
    "            )\n",
    "        pf2_trades = pf2.trades.records_readable\n",
    "        pf2_trades['asset'] = pair.split('/')[1]\n",
    "        \n",
    "        # Merge data\n",
    "        \n",
    "        mean_data = (pf1.returns().to_numpy() + pf2.returns().to_numpy())/2\n",
    "        pair_rets = pd.DataFrame(mean_data, columns=[pair], index=pf1.returns().index)\n",
    "        pair_trades = pd.concat([pf1_trades, pf2_trades])\n",
    "\n",
    "        # Compute pair stats\n",
    "        \n",
    "        avg_trade = pair_trades[['Return', 'Exit Timestamp']].groupby('Exit Timestamp').mean().Return.mean()\n",
    "        n_trades = len(pf1_trades)\n",
    "        sr = ep.sharpe_ratio(pair_rets[pair])\n",
    "        maxdd = ep.max_drawdown(pair_rets[pair])\n",
    "        corr = raw_prices[pair.split('/')[0]].loc[batch].corr(raw_prices[pair.split('/')[1]].loc[batch])\n",
    "        adf = get_adfuller(zscores[pair].loc[batch].dropna())\n",
    "        coin = get_coint(raw_prices[pair.split('/')[0]].loc[batch], raw_prices[pair.split('/')[1]].loc[batch])\n",
    "        total_ret = ep.cum_returns_final(pair_rets[pair])\n",
    "        \n",
    "        pairs_stats[pair] = [avg_trade, n_trades, sr, maxdd, corr, adf, coin, total_ret]    \n",
    "\n",
    "    # Store in-sample batch stats \n",
    "    \n",
    "    t = pd.DataFrame(pairs_stats).T.reset_index()\n",
    "    t.columns = ['pair', 'avg_trade', 'n_trades', 'sr', 'maxdd', 'corr', 'adf', 'coin', 'total_ret']\n",
    "    t['batch'] = i\n",
    "    out_sample_stats = pd.concat([out_sample_stats, t])"
   ]
  },
  {
   "cell_type": "code",
   "execution_count": 280,
   "id": "30a9bf96-6799-470e-9017-de9c44c8cd2d",
   "metadata": {},
   "outputs": [],
   "source": [
    "# m1 = out_sample_stats.copy()\n",
    "# m2 = out_sample_stats.copy()\n",
    "# m3 = out_sample_stats.copy()\n",
    "m4 = out_sample_stats.copy()\n",
    "# m5 = out_sample_stats.copy()\n"
   ]
  },
  {
   "cell_type": "markdown",
   "id": "0abf7bc0-a2dd-4265-aff9-e3052b58ca5b",
   "metadata": {},
   "source": [
    "### Summarize Results"
   ]
  },
  {
   "cell_type": "code",
   "execution_count": 287,
   "id": "627c5d18-fb84-432b-bcd7-75c06973e2d8",
   "metadata": {},
   "outputs": [
    {
     "data": {
      "text/html": [
       "<div>\n",
       "<style scoped>\n",
       "    .dataframe tbody tr th:only-of-type {\n",
       "        vertical-align: middle;\n",
       "    }\n",
       "\n",
       "    .dataframe tbody tr th {\n",
       "        vertical-align: top;\n",
       "    }\n",
       "\n",
       "    .dataframe thead th {\n",
       "        text-align: right;\n",
       "    }\n",
       "</style>\n",
       "<table border=\"1\" class=\"dataframe\">\n",
       "  <thead>\n",
       "    <tr style=\"text-align: right;\">\n",
       "      <th></th>\n",
       "      <th>avg_trade</th>\n",
       "      <th>n_trades</th>\n",
       "      <th>sr</th>\n",
       "      <th>maxdd</th>\n",
       "      <th>corr</th>\n",
       "      <th>adf</th>\n",
       "      <th>total_ret</th>\n",
       "    </tr>\n",
       "  </thead>\n",
       "  <tbody>\n",
       "    <tr>\n",
       "      <th>m1</th>\n",
       "      <td>0.0111</td>\n",
       "      <td>2.9400</td>\n",
       "      <td>0.6783</td>\n",
       "      <td>-0.0468</td>\n",
       "      <td>0.5385</td>\n",
       "      <td>0.0020</td>\n",
       "      <td>0.0400</td>\n",
       "    </tr>\n",
       "    <tr>\n",
       "      <th>m2</th>\n",
       "      <td>0.0031</td>\n",
       "      <td>2.5100</td>\n",
       "      <td>0.3954</td>\n",
       "      <td>-0.0799</td>\n",
       "      <td>0.3780</td>\n",
       "      <td>0.0025</td>\n",
       "      <td>0.0188</td>\n",
       "    </tr>\n",
       "    <tr>\n",
       "      <th>m3</th>\n",
       "      <td>0.0105</td>\n",
       "      <td>2.7900</td>\n",
       "      <td>0.6583</td>\n",
       "      <td>-0.0406</td>\n",
       "      <td>0.6010</td>\n",
       "      <td>0.0026</td>\n",
       "      <td>0.0317</td>\n",
       "    </tr>\n",
       "    <tr>\n",
       "      <th>m4</th>\n",
       "      <td>0.0076</td>\n",
       "      <td>2.8586</td>\n",
       "      <td>0.6518</td>\n",
       "      <td>-0.0410</td>\n",
       "      <td>0.6149</td>\n",
       "      <td>0.0019</td>\n",
       "      <td>0.0287</td>\n",
       "    </tr>\n",
       "    <tr>\n",
       "      <th>m5</th>\n",
       "      <td>0.0074</td>\n",
       "      <td>2.8337</td>\n",
       "      <td>0.6199</td>\n",
       "      <td>-0.0395</td>\n",
       "      <td>0.6075</td>\n",
       "      <td>0.0024</td>\n",
       "      <td>0.0273</td>\n",
       "    </tr>\n",
       "  </tbody>\n",
       "</table>\n",
       "</div>"
      ],
      "text/plain": [
       "    avg_trade  n_trades      sr   maxdd    corr     adf  total_ret\n",
       "m1     0.0111    2.9400  0.6783 -0.0468  0.5385  0.0020     0.0400\n",
       "m2     0.0031    2.5100  0.3954 -0.0799  0.3780  0.0025     0.0188\n",
       "m3     0.0105    2.7900  0.6583 -0.0406  0.6010  0.0026     0.0317\n",
       "m4     0.0076    2.8586  0.6518 -0.0410  0.6149  0.0019     0.0287\n",
       "m5     0.0074    2.8337  0.6199 -0.0395  0.6075  0.0024     0.0273"
      ]
     },
     "execution_count": 287,
     "metadata": {},
     "output_type": "execute_result"
    }
   ],
   "source": [
    "avgs_table = pd.DataFrame()\n",
    "\n",
    "t = m1.drop(columns=['pair']).groupby('batch').mean().mean().to_frame().T.drop(columns='coin')\n",
    "t.index = ['m1']\n",
    "avgs_table = pd.concat([avgs_table, t])\n",
    "\n",
    "t = m2.drop(columns=['pair']).groupby('batch').mean().mean().to_frame().T.drop(columns='coin')\n",
    "t.index = ['m2']\n",
    "avgs_table = pd.concat([avgs_table, t])\n",
    "\n",
    "t = m3.drop(columns=['pair']).groupby('batch').mean().mean().to_frame().T.drop(columns='coin')\n",
    "t.index = ['m3']\n",
    "avgs_table = pd.concat([avgs_table, t])\n",
    "\n",
    "t = m4.drop(columns=['pair']).groupby('batch').mean().mean().to_frame().T.drop(columns='coin')\n",
    "t.index = ['m4']\n",
    "avgs_table = pd.concat([avgs_table, t])\n",
    "\n",
    "t = m5.drop(columns=['pair']).groupby('batch').mean().mean().to_frame().T.drop(columns='coin')\n",
    "t.index = ['m5']\n",
    "avgs_table = pd.concat([avgs_table, t])\n",
    "\n",
    "avgs_table.round(4)"
   ]
  },
  {
   "cell_type": "code",
   "execution_count": 289,
   "id": "33f2e9c2-ad8c-43c9-98f3-eefda9aad9ac",
   "metadata": {},
   "outputs": [
    {
     "data": {
      "text/plain": [
       "<matplotlib.legend.Legend at 0x1fe8f5b0460>"
      ]
     },
     "execution_count": 289,
     "metadata": {},
     "output_type": "execute_result"
    },
    {
     "data": {
      "image/png": "[encoded data removed]",
      "text/plain": [
       "<Figure size 640x480 with 1 Axes>"
      ]
     },
     "metadata": {},
     "output_type": "display_data"
    }
   ],
   "source": [
    "c1 = m1.drop(columns=['pair']).groupby('batch').mean().total_ret.cumsum() + 1\n",
    "c2 = m2.drop(columns=['pair']).groupby('batch').mean().total_ret.cumsum() + 1\n",
    "c3 = m3.drop(columns=['pair']).groupby('batch').mean().total_ret.cumsum() + 1\n",
    "c4 = m4.drop(columns=['pair']).groupby('batch').mean().total_ret.cumsum() + 1\n",
    "c5 = m5.drop(columns=['pair']).groupby('batch').mean().total_ret.cumsum() + 1\n",
    "\n",
    "\n",
    "c1.div(c1.iloc[0]).plot(label='m1')\n",
    "c2.div(c2.iloc[0]).plot(label='m2')\n",
    "c3.div(c3.iloc[0]).plot(label='m3')\n",
    "c4.div(c4.iloc[0]).plot(label='m4')\n",
    "c5.div(c5.iloc[0]).plot(label='m5')\n",
    "\n",
    "\n",
    "plt.legend()"
   ]
  }
 ],
 "metadata": {
  "kernelspec": {
   "display_name": "Python 3 (ipykernel)",
   "language": "python",
   "name": "python3"
  },
  "language_info": {
   "codemirror_mode": {
    "name": "ipython",
    "version": 3
   },
   "file_extension": ".py",
   "mimetype": "text/x-python",
   "name": "python",
   "nbconvert_exporter": "python",
   "pygments_lexer": "ipython3",
   "version": "3.10.11"
  }
 },
 "nbformat": 4,
 "nbformat_minor": 5
}
